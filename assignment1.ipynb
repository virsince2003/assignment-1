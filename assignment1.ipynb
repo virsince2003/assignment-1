{
 "cells": [
  {
   "cell_type": "markdown",
   "id": "b8fe7886-8ce7-4abb-9bf0-c5d0efb6d119",
   "metadata": {},
   "source": [
    "What are the characteristics of the tuples? Is tuple immutable?"
   ]
  },
  {
   "cell_type": "raw",
   "id": "f6988579-c635-4841-851b-686257a88470",
   "metadata": {},
   "source": [
    "Tuple are immutable.\n",
    "Once tuple is defined it cannot be altered.\n",
    "when there is single element in tuple comma should be there\n",
    "t=(1,)"
   ]
  },
  {
   "cell_type": "markdown",
   "id": "35aac3d3-92d9-4a18-b02d-3beacf7c9107",
   "metadata": {},
   "source": [
    " What are the two tuple methods in python? Give an example of each method. Give a reason why \n",
    "tuples have only two in-built methods as compared to Lists."
   ]
  },
  {
   "cell_type": "raw",
   "id": "c8d0cdfd-bc0c-4d62-9eee-e4d0c40c6fa2",
   "metadata": {},
   "source": [
    ".count()\n",
    ".index()"
   ]
  },
  {
   "cell_type": "code",
   "execution_count": 1,
   "id": "25c9a232-3f84-4c42-90e6-3f6c96051077",
   "metadata": {},
   "outputs": [
    {
     "data": {
      "text/plain": [
       "1"
      ]
     },
     "execution_count": 1,
     "metadata": {},
     "output_type": "execute_result"
    }
   ],
   "source": [
    "tuple=(1,2,3,4,5)\n",
    "tuple.count(4)"
   ]
  },
  {
   "cell_type": "code",
   "execution_count": 2,
   "id": "9ec40d7c-67c0-4507-be9d-18ceaed980b3",
   "metadata": {},
   "outputs": [
    {
     "data": {
      "text/plain": [
       "3"
      ]
     },
     "execution_count": 2,
     "metadata": {},
     "output_type": "execute_result"
    }
   ],
   "source": [
    "tuple.index(4)"
   ]
  },
  {
   "cell_type": "raw",
   "id": "6e11d22c-f438-4605-a054-cd05653842d0",
   "metadata": {},
   "source": [
    "tuple is a collection which is  unchangeable but list is changeable."
   ]
  },
  {
   "cell_type": "markdown",
   "id": "426c9265-e8d4-4df4-a275-77776f51cf82",
   "metadata": {},
   "source": [
    " Which collection datatypes in python do not allow duplicate items? Write a code using a set to remove \n",
    "duplicates from the given list."
   ]
  },
  {
   "cell_type": "raw",
   "id": "dd127b19-ca7b-4e65-aa2b-96d69466ed1b",
   "metadata": {},
   "source": [
    "Set is a datatype which does not allow dupplicate item."
   ]
  },
  {
   "cell_type": "code",
   "execution_count": 3,
   "id": "822e3f5e-0d7b-4412-8974-6fc8c2a8abec",
   "metadata": {},
   "outputs": [
    {
     "name": "stdout",
     "output_type": "stream",
     "text": [
      "{1, 2, 3, 4}\n"
     ]
    }
   ],
   "source": [
    "#code for removal of duplicate drom list\n",
    "List = [1, 1, 1, 2, 1, 3, 1, 4, 2, 1, 2, 2, 2, 3, 2, 4, 3, 1, 3, 2, 3, 3, 3, 4, 4, 1, 4, 2, 4, 3, 4, 4]\n",
    "s=set(List)\n",
    "print(s)"
   ]
  },
  {
   "cell_type": "markdown",
   "id": "a36e8ed2-9984-4d56-bfb4-3adc023b2bb5",
   "metadata": {},
   "source": [
    " Explain the difference between the union() and update() methods for a set. Give an example of \n",
    "each method."
   ]
  },
  {
   "cell_type": "code",
   "execution_count": 4,
   "id": "b27e1a91-82ff-4581-a161-36e703266fa2",
   "metadata": {},
   "outputs": [
    {
     "name": "stdout",
     "output_type": "stream",
     "text": [
      "{1, 2, 3, 4, 5, 6, 7}\n",
      "{1, 2, 3, 4}\n"
     ]
    }
   ],
   "source": [
    "# union\n",
    "a={1,2,3,4}\n",
    "b={3,4,5,6,7}\n",
    "c=a.union(b)\n",
    "print(c)\n",
    "print(a)"
   ]
  },
  {
   "cell_type": "code",
   "execution_count": 5,
   "id": "525b2269-352a-411c-81db-407bd0394a85",
   "metadata": {},
   "outputs": [
    {
     "name": "stdout",
     "output_type": "stream",
     "text": [
      "None\n",
      "{1, 2, 3, 4, 5, 6, 7}\n"
     ]
    }
   ],
   "source": [
    "#update\n",
    "a={1,2,3,4}\n",
    "b={3,4,5,6,7}\n",
    "c=a.update(b)\n",
    "print(c)\n",
    "print(a)"
   ]
  },
  {
   "cell_type": "markdown",
   "id": "96d4c2b3-3e70-492d-9abc-b6c3a0711147",
   "metadata": {},
   "source": [
    "What is a dictionary? Give an example. Also, state whether a dictionary is ordered or unordered."
   ]
  },
  {
   "cell_type": "raw",
   "id": "a9e07ade-020d-4f25-8dcb-a6a223a1b566",
   "metadata": {},
   "source": [
    "Dictionary is an orderd and changable, it is used to store data in form of keys:and values."
   ]
  },
  {
   "cell_type": "code",
   "execution_count": 6,
   "id": "60a20416-2836-46ca-a11c-2300879ca72b",
   "metadata": {},
   "outputs": [
    {
     "name": "stdout",
     "output_type": "stream",
     "text": [
      "{'zebra': 7, 'Zest': 6, 'apple': 5, 'cat': 4, 'balls': 3, 'dog': 2, 'eat': 1}\n"
     ]
    }
   ],
   "source": [
    "dic = {\"zebra\":7, \"Zest\":6, \"apple\":5, \"cat\":4, \"balls\":3, \"dog\":2, \"eat\":1}\n",
    "print(dic)"
   ]
  },
  {
   "cell_type": "markdown",
   "id": "adf48710-3575-49c1-b181-68661ca3fcdc",
   "metadata": {},
   "source": [
    "Can we create a nested dictionary? If so, please give an example by creating a simple one-level nested dictionary."
   ]
  },
  {
   "cell_type": "raw",
   "id": "36169ed5-a712-4192-9a75-2120d72277d5",
   "metadata": {},
   "source": [
    "YEs, we can create a nested dictidictionary."
   ]
  },
  {
   "cell_type": "code",
   "execution_count": 7,
   "id": "e265867b-df05-4952-843b-aa6b9c9fdc04",
   "metadata": {},
   "outputs": [],
   "source": [
    "#example\n",
    "dic = {\"zebra\":7, \"Zest\":6, \"apple\":5, \"cat\":4, \"balls\":3, \"dog\":2, 1:{\"eat\", \"bat\"}}"
   ]
  },
  {
   "cell_type": "code",
   "execution_count": 8,
   "id": "522a6741-6960-45a5-80be-1ff069396006",
   "metadata": {},
   "outputs": [
    {
     "name": "stdout",
     "output_type": "stream",
     "text": [
      "{'zebra': 7, 'Zest': 6, 'apple': 5, 'cat': 4, 'balls': 3, 'dog': 2, 1: {'bat', 'eat'}}\n"
     ]
    }
   ],
   "source": [
    "print(dic)"
   ]
  },
  {
   "cell_type": "markdown",
   "id": "50fd848e-f432-4b7b-ac79-b5424a7ab280",
   "metadata": {},
   "source": [
    "Using setdefault() method, create key named topics in the given dictionary and also add the value of the key as this list ['Python', 'Machine Learning’, 'Deep Learning']"
   ]
  },
  {
   "cell_type": "code",
   "execution_count": 9,
   "id": "ae1fbb53-f3c5-424c-ad7e-6e6aca8af610",
   "metadata": {},
   "outputs": [
    {
     "data": {
      "text/plain": [
       "{'language': 'Python',\n",
       " 'course': 'Data Science Masters',\n",
       " 'topics': ['Python', 'Machine Learning', 'Deep Learning']}"
      ]
     },
     "execution_count": 9,
     "metadata": {},
     "output_type": "execute_result"
    }
   ],
   "source": [
    "dict1 = {'language' : 'Python', 'course': 'Data Science Masters'}\n",
    "dict1.setdefault(\"course\",)\n",
    "dict1.setdefault(\"topics\", [\"Python\", \"Machine Learning\", \"Deep Learning\"])\n",
    "dict1"
   ]
  },
  {
   "cell_type": "markdown",
   "id": "264d3b80-1a0c-4309-ae18-e5628c18ef81",
   "metadata": {},
   "source": [
    "What are the three view objects in dictionaries? Use the three in-built methods in python to display these three view objects for the given dictionary.\n",
    "\n",
    "dict1 = {'Sport': 'Cricket' , 'Teams': ['India', 'Australia', 'England', 'South Africa', 'Sri Lanka', 'New Zealand']}"
   ]
  },
  {
   "cell_type": "raw",
   "id": "452bc482-7c26-4311-baa2-a1be1c4f275f",
   "metadata": {},
   "source": [
    "The main view objects of dictionary in python are keys, values and items."
   ]
  },
  {
   "cell_type": "code",
   "execution_count": 10,
   "id": "2bb3b906-53d9-4b0a-a92a-8b8bf0fd37b9",
   "metadata": {},
   "outputs": [
    {
     "name": "stdout",
     "output_type": "stream",
     "text": [
      "Sport\n",
      "Teams\n"
     ]
    }
   ],
   "source": [
    "dict1 = {'Sport': 'Cricket' , 'Teams': ['India', 'Australia', 'England', 'South Africa', 'Sri Lanka', 'New Zealand']}\n",
    "a=dict1.keys()\n",
    "for i in a:\n",
    "    print(i)"
   ]
  },
  {
   "cell_type": "code",
   "execution_count": 11,
   "id": "8c761496-bd26-402a-a989-2a6dc7007d5e",
   "metadata": {},
   "outputs": [
    {
     "name": "stdout",
     "output_type": "stream",
     "text": [
      "Cricket\n",
      "['India', 'Australia', 'England', 'South Africa', 'Sri Lanka', 'New Zealand']\n"
     ]
    }
   ],
   "source": [
    "b=dict1.values()\n",
    "for i in b:\n",
    "    print(i)"
   ]
  },
  {
   "cell_type": "code",
   "execution_count": 13,
   "id": "ca9c463f-ff43-4e81-b157-f82557a659ab",
   "metadata": {},
   "outputs": [
    {
     "name": "stdout",
     "output_type": "stream",
     "text": [
      "Sport : Cricket\n",
      "Teams : ['India', 'Australia', 'England', 'South Africa', 'Sri Lanka', 'New Zealand']\n"
     ]
    }
   ],
   "source": [
    "c=dict1.items()\n",
    "for k,v in c:\n",
    "    print(k,\":\",v)"
   ]
  },
  {
   "cell_type": "code",
   "execution_count": null,
   "id": "9143dbad-a6a0-4c63-a1be-0cb26b42c0b0",
   "metadata": {},
   "outputs": [],
   "source": []
  }
 ],
 "metadata": {
  "kernelspec": {
   "display_name": "Python 3 (ipykernel)",
   "language": "python",
   "name": "python3"
  },
  "language_info": {
   "codemirror_mode": {
    "name": "ipython",
    "version": 3
   },
   "file_extension": ".py",
   "mimetype": "text/x-python",
   "name": "python",
   "nbconvert_exporter": "python",
   "pygments_lexer": "ipython3",
   "version": "3.10.8"
  }
 },
 "nbformat": 4,
 "nbformat_minor": 5
}
